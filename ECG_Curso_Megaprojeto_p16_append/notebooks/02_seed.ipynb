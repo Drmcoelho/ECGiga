{
 "cells": [
  {
   "cell_type": "markdown",
   "id": "21132aaa",
   "metadata": {},
   "source": [
    "# 02 — Derivações e Posicionamento (p0)\n",
    "\n",
    "Casos de má colocação e artefatos virão em p1/p2."
   ]
  },
  {
   "cell_type": "code",
   "execution_count": null,
   "id": "ddc67aeb",
   "metadata": {},
   "outputs": [],
   "source": [
    "# imports essenciais\n"
   ]
  },
  {
   "cell_type": "markdown",
   "id": "f3866023",
   "metadata": {},
   "source": [
    "**Objetivo (p0):** esqueleto para futuras demonstrações. Este notebook não é a plataforma principal."
   ]
  }
 ],
 "metadata": {},
 "nbformat": 4,
 "nbformat_minor": 5
}
