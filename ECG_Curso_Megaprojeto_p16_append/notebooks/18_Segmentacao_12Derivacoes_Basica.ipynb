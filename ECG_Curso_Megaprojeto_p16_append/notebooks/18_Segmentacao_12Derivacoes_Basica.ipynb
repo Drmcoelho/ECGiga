{
 "cells": [
  {
   "cell_type": "markdown",
   "id": "8ba3782c",
   "metadata": {},
   "source": [
    "# 18_Segmentacao_12Derivacoes_Basica\n",
    "\n",
    "Segmentação 3x4 do retângulo de conteúdo."
   ]
  },
  {
   "cell_type": "code",
   "execution_count": null,
   "id": "979c548a",
   "metadata": {},
   "outputs": [],
   "source": [
    "from PIL import Image\n",
    "import numpy as np\n",
    "from cv.segmentation import segment_12leads_basic, find_content_bbox\n",
    "img = Image.open('../samples/ecg_images/synthetic_12lead.png').convert('L')\n",
    "arr = np.asarray(img)\n",
    "bbox = find_content_bbox(arr)\n",
    "leads = segment_12leads_basic(arr, bbox=bbox)\n",
    "len(leads), leads[0]"
   ]
  }
 ],
 "metadata": {},
 "nbformat": 4,
 "nbformat_minor": 5
}