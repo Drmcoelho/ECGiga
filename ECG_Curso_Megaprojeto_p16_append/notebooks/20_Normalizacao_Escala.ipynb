{
 "cells": [
  {
   "cell_type": "markdown",
   "id": "37dca2e5",
   "metadata": {},
   "source": [
    "# 20_Normalizacao_Escala\n",
    "\n",
    "Normalização de escala para px/mm alvo (10 px/mm por padrão)."
   ]
  },
  {
   "cell_type": "code",
   "execution_count": null,
   "id": "07e2673f",
   "metadata": {},
   "outputs": [],
   "source": [
    "from PIL import Image\n",
    "from cv.normalize import normalize_scale\n",
    "img = Image.open('../samples/ecg_images/synthetic_12lead.png').convert('RGB')\n",
    "im1, scale, pxmm = normalize_scale(img, target_px_per_mm=10.0)\n",
    "pxmm, scale, im1.size"
   ]
  }
 ],
 "metadata": {},
 "nbformat": 4,
 "nbformat_minor": 5
}