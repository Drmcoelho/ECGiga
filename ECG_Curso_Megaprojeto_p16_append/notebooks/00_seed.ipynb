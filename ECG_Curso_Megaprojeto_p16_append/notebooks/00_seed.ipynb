{
 "cells": [
  {
   "cell_type": "markdown",
   "id": "908955fc",
   "metadata": {},
   "source": [
    "# 00 — Fundamentos do Potencial de Ação (p0)\n",
    "\n",
    "Simulações e gráficos serão inseridos nas partes p1/p2."
   ]
  },
  {
   "cell_type": "code",
   "execution_count": null,
   "id": "1824bf8c",
   "metadata": {},
   "outputs": [],
   "source": [
    "# imports essenciais\n",
    "import numpy as np\n",
    "import pandas as pd\n",
    "import matplotlib.pyplot as plt\n"
   ]
  },
  {
   "cell_type": "markdown",
   "id": "f72b0da0",
   "metadata": {},
   "source": [
    "**Objetivo (p0):** esqueleto para futuras demonstrações. Este notebook não é a plataforma principal."
   ]
  }
 ],
 "metadata": {},
 "nbformat": 4,
 "nbformat_minor": 5
}
