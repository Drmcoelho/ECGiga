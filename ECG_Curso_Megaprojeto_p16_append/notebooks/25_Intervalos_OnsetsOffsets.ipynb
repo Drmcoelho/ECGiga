{
 "cells": [
  {
   "cell_type": "markdown",
   "id": "1f6de3b6",
   "metadata": {},
   "source": [
    "# 25_Intervalos_OnsetsOffsets\n",
    "\n",
    "Estimativa de PR/QRS/QT/QTc a partir de onsets/offsets derivados do gradiente."
   ]
  },
  {
   "cell_type": "code",
   "execution_count": null,
   "id": "0c696497",
   "metadata": {},
   "outputs": [],
   "source": [
    "import numpy as np\n",
    "from PIL import Image\n",
    "\n",
    "from cv.grid_detect import estimate_grid_period_px\n",
    "from cv.intervals import intervals_from_trace\n",
    "from cv.rpeaks_from_image import estimate_px_per_sec, extract_trace_centerline, smooth_signal\n",
    "from cv.rpeaks_robust import pan_tompkins_like\n",
    "from cv.segmentation import find_content_bbox\n",
    "from cv.segmentation_ext import segment_layout\n",
    "\n",
    "img = Image.open('../samples/ecg_images/synthetic_12lead.png').convert('L')\n",
    "arr = np.asarray(img)\n",
    "bbox = find_content_bbox(arr)\n",
    "seg = segment_layout(arr, '3x4', bbox=bbox)\n",
    "lab2box = {d['lead']: d['bbox'] for d in seg}\n",
    "x0,y0,x1,y1 = lab2box['II']\n",
    "crop = arr[y0:y1,x0:x1]\n",
    "trace = smooth_signal(extract_trace_centerline(crop), win=11)\n",
    "pxmm = (estimate_grid_period_px(np.asarray(Image.open('../samples/ecg_images/synthetic_12lead.png').convert('RGB'))).get('px_small_x') or 10)\n",
    "pxsec = estimate_px_per_sec(pxmm, 25.0)\n",
    "res = pan_tompkins_like(trace, pxsec)\n",
    "iv = intervals_from_trace(trace, res['peaks_idx'], pxsec)\n",
    "iv['median']"
   ]
  }
 ],
 "metadata": {},
 "nbformat": 4,
 "nbformat_minor": 5
}