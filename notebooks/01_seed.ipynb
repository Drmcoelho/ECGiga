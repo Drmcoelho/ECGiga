{
 "cells": [
  {
   "cell_type": "markdown",
   "id": "6e983cf0",
   "metadata": {},
   "source": [
    "# 01 — Sistema de Condução Cardíaco (p0)\n",
    "\n",
    "Diagramas e tempos de condução serão adicionados em p1/p2."
   ]
  },
  {
   "cell_type": "code",
   "execution_count": null,
   "id": "73bf1240",
   "metadata": {},
   "outputs": [],
   "source": [
    "# imports essenciais\n",
    "import numpy as np\n",
    "import pandas as pd\n",
    "import matplotlib.pyplot as plt\n"
   ]
  },
  {
   "cell_type": "markdown",
   "id": "7fa2920b",
   "metadata": {},
   "source": [
    "**Objetivo (p0):** esqueleto para futuras demonstrações. Este notebook não é a plataforma principal."
   ]
  }
 ],
 "metadata": {},
 "nbformat": 4,
 "nbformat_minor": 5
}
