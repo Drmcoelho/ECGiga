{
 "cells": [
  {
   "cell_type": "markdown",
   "id": "5d862505",
   "metadata": {},
   "source": [
    "# 26_Quiz_Dinamico\n",
    "\n",
    "Geração de MCQs a partir de um laudo analisado."
   ]
  },
  {
   "cell_type": "code",
   "execution_count": null,
   "id": "d6b80bae",
   "metadata": {},
   "outputs": [],
   "source": [
    "import json\n",
    "from quiz.generate_quiz import quiz_from_report\n",
    "# Exemplo minimal: um laudo sintético\n",
    "report = {\n",
    "  'intervals': {'median': {'PR_ms': 210, 'QRS_ms': 140, 'QT_ms': 420, 'QTc_B': 460}},\n",
    "  'rpeaks': {'rr_sec': [0.8, 0.82, 0.78, 0.79]}\n",
    "}\n",
    "q = quiz_from_report(report)\n",
    "len(q['questions']), q['questions'][0]['prompt']"
   ]
  }
 ],
 "metadata": {},
 "nbformat": 4,
 "nbformat_minor": 5
}