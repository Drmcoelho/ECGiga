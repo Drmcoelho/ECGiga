{"cells":[{"cell_type":"markdown","id":"intro","metadata":{},"source":["# Hipertrofia e Bloqueios Fasciculares","","Conteudo em construcao."]}],"metadata":{},"nbformat":4,"nbformat_minor":5}
