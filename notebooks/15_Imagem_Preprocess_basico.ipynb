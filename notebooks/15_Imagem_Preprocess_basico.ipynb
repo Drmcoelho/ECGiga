{
 "cells": [
  {
   "cell_type": "markdown",
   "id": "00380ea7",
   "metadata": {},
   "source": [
    "# 15_Imagem_Preprocess_basico\n",
    "\n",
    "Pré-processamento simples de ECG escaneado (demo educacional).\\n- conversão para escala de cinza\\n- normalização de contraste\\n- limiarização adaptativa\\n**Nota:** pipeline real será expandido em partes futuras."
   ]
  },
  {
   "cell_type": "code",
   "execution_count": null,
   "id": "1f77a92d",
   "metadata": {},
   "outputs": [],
   "source": [
    "from PIL import Image, ImageOps\\nimport numpy as np\\nimg = Image.open('../samples/ecg_images/synthetic_12lead.png').convert('L')\\narr = np.array(img)\\nnorm = (arr - arr.min())/(arr.max()-arr.min()+1e-6)\\nth = (norm > 0.6).astype(np.uint8)*255\\nprint(arr.shape, float(norm.mean()), float(th.mean()))"
   ]
  }
 ],
 "metadata": {},
 "nbformat": 4,
 "nbformat_minor": 5
}
