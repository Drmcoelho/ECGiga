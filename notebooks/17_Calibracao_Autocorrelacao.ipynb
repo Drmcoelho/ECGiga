{
 "cells": [
  {
   "cell_type": "markdown",
   "id": "51190f67",
   "metadata": {},
   "source": [
    "# 17_Calibracao_Autocorrelacao\n",
    "\n",
    "Calibração automática da grade via autocorrelação 1D."
   ]
  },
  {
   "cell_type": "code",
   "execution_count": null,
   "id": "08f9cc06",
   "metadata": {},
   "outputs": [],
   "source": [
    "from PIL import Image\n",
    "import numpy as np\n",
    "from cv.grid_detect import estimate_grid_period_px\n",
    "img = Image.open('../samples/ecg_images/synthetic_12lead.png').convert('RGB')\n",
    "info = estimate_grid_period_px(np.asarray(img))\n",
    "info"
   ]
  }
 ],
 "metadata": {},
 "nbformat": 4,
 "nbformat_minor": 5
}