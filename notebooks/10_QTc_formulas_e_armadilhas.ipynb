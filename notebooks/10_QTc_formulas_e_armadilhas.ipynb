{
 "cells": [
  {
   "cell_type": "markdown",
   "id": "60a8ab81",
   "metadata": {},
   "source": [
    "# 10_QTc_formulas_e_armadilhas\n",
    "\n",
    "Comparação de Bazett e Fridericia e comportamento em FCs extremas; exemplos clínicos simulados."
   ]
  },
  {
   "cell_type": "code",
   "execution_count": null,
   "id": "99fcb8aa",
   "metadata": {},
   "outputs": [],
   "source": [
    "import math\n",
    "for rr in [600,800,1000,1200]:\n",
    "    qb=400/math.sqrt(rr/1000.0); qf=400/((rr/1000.0)**(1/3))\n",
    "    print(rr, qb, qf)"
   ]
  }
 ],
 "metadata": {},
 "nbformat": 4,
 "nbformat_minor": 5
}
