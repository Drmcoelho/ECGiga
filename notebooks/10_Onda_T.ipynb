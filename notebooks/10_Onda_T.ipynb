{
 "cells": [
  {
   "cell_type": "markdown",
   "id": "a268065a",
   "metadata": {},
   "source": [
    "# Onda T"
   ]
  },
  {
   "cell_type": "markdown",
   "id": "f8ba1391",
   "metadata": {},
   "source": [
    "Este notebook aborda o tópico **Onda T**.\n",
    "\n",
    "Here we will provide an overview and interactive code examples.\n",
    "\n",
    "## Objetivos\n",
    "- Entender os princípios básicos do tema.\n",
    "- Visualizar sinais e fenômenos associados usando Python.\n",
    "- Desenvolver intuição heurística sobre o comportamento eletrocardiográfico.\n"
   ]
  },
  {
   "cell_type": "code",
   "execution_count": null,
   "id": "6c99bc75",
   "metadata": {},
   "outputs": [],
   "source": [
    "\n",
    "import numpy as np\n",
    "import matplotlib.pyplot as plt\n",
    "# Gerar um sinal de ECG sintético simples\n",
    "\n",
    "t = np.linspace(0, 1, 500)\n",
    "sinal = 0.1*np.sin(2*np.pi*5*t) + 0.01*np.random.randn(500)\n",
    "plt.figure(figsize=(10,3))\n",
    "plt.plot(t, sinal)\n",
    "plt.title('Sinal ECG Sintético de Exemplo')\n",
    "plt.xlabel('Tempo (s)')\n",
    "plt.ylabel('Amplitude (mV)')\n",
    "plt.grid(True)\n",
    "plt.show()\n"
   ]
  },
  {
   "cell_type": "code",
   "execution_count": null,
   "id": "5162e91e",
   "metadata": {},
   "outputs": [],
   "source": [
    "\n",
    "# Aqui você pode adicionar código específico para o tema,\n",
    "# como cálculo do vetor elétrico, análise de intervalos, \n",
    "# detecção de ondas ou simulação de patologias. \n"
   ]
  }
 ],
 "metadata": {},
 "nbformat": 4,
 "nbformat_minor": 5
}
