{"cells":[{"cell_type":"markdown","id":"intro","metadata":{},"source":["# Arritmias Ventriculares","","Conteudo em construcao."]}],"metadata":{},"nbformat":4,"nbformat_minor":5}
