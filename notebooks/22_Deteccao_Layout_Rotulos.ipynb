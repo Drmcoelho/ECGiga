{
 "cells": [
  {
   "cell_type": "markdown",
   "id": "d474227e",
   "metadata": {},
   "source": [
    "# 22_Deteccao_Layout_Rotulos\n",
    "\n",
    "Detecção automática de layout/rótulos com `cv.lead_ocr`."
   ]
  },
  {
   "cell_type": "code",
   "execution_count": null,
   "id": "dec7e931",
   "metadata": {},
   "outputs": [],
   "source": [
    "import numpy as np\n",
    "from PIL import Image\n",
    "\n",
    "from cv.lead_ocr import choose_layout\n",
    "from cv.segmentation import find_content_bbox\n",
    "from cv.segmentation_ext import segment_layout\n",
    "\n",
    "img = Image.open('../samples/ecg_images/synthetic_12lead.png').convert('L')\n",
    "arr = np.asarray(img)\n",
    "bbox = find_content_bbox(arr)\n",
    "cands = {'3x4': segment_layout(arr,'3x4',bbox=bbox),'6x2': segment_layout(arr,'6x2',bbox=bbox),'3x4+rhythm': segment_layout(arr,'3x4+rhythm',bbox=bbox)}\n",
    "best = choose_layout(arr, {k:[d['bbox'] for d in v] for k,v in cands.items()})\n",
    "best"
   ]
  }
 ],
 "metadata": {},
 "nbformat": 4,
 "nbformat_minor": 5
}