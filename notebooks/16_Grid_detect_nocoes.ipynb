{
 "cells": [
  {
   "cell_type": "markdown",
   "id": "a317c2a8",
   "metadata": {},
   "source": [
    "# 16_Grid_detect_nocoes\n",
    "\n",
    "Noções de detecção de grade (não clínico).\\nIdeias:\\n- projeções horizontais/verticais\\n- autocorrelação para periodicidade\\n- Hough para linhas (futuro)"
   ]
  },
  {
   "cell_type": "code",
   "execution_count": null,
   "id": "7408e0b1",
   "metadata": {},
   "outputs": [],
   "source": [
    "import numpy as np\\nfrom PIL import Image\\nimg = Image.open('../samples/ecg_images/synthetic_12lead.png').convert('L')\\narr = np.array(img)\\nproj_x = arr.mean(axis=0)\\nproj_y = arr.mean(axis=1)\\nprint(proj_x.shape, proj_y.shape)"
   ]
  }
 ],
 "metadata": {},
 "nbformat": 4,
 "nbformat_minor": 5
}
