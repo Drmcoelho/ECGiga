{
 "cells": [
  {
   "cell_type": "markdown",
   "id": "4e24b0bb",
   "metadata": {},
   "source": [
    "# 12_Rpeaks_e_RR\n",
    "\n",
    "Exemplo de detecção de R-peaks (se neurokit2 instalado)."
   ]
  },
  {
   "cell_type": "code",
   "execution_count": null,
   "id": "28d97172",
   "metadata": {},
   "outputs": [],
   "source": [
    "import numpy as np\n",
    "try:\n",
    "    import neurokit2 as nk\n",
    "    sig = nk.ecg_simulate(duration=10, sampling_rate=500)\n",
    "    _, info = nk.ecg_peaks(sig, sampling_rate=500)\n",
    "    hr = nk.ecg_rate(info['ECG_R_Peaks'], sampling_rate=500)\n",
    "    print('FC média:', np.mean(hr))\n",
    "except Exception as e:\n",
    "    print('NeuroKit2 não instalado; este notebook é demonstrativo.', e)"
   ]
  }
 ],
 "metadata": {},
 "nbformat": 4,
 "nbformat_minor": 5
}
