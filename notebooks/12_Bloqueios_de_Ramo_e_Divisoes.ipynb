{
 "cells": [
  {
   "cell_type": "markdown",
   "id": "intro",
   "metadata": {},
   "source": ["# Bloqueios de Ramo e Divisoes", "", "Conteudo em construcao."]
  }
 ],
 "metadata": {},
 "nbformat": 4,
 "nbformat_minor": 5
}
