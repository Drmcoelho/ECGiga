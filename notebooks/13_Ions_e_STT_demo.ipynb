{
 "cells": [
  {
   "cell_type": "markdown",
   "id": "b3558bdc",
   "metadata": {},
   "source": [
    "# 13_Ions_e_STT_demo\n",
    "\n",
    "Demonstração sintética de alterações em ST-T (educacional)."
   ]
  },
  {
   "cell_type": "code",
   "execution_count": null,
   "id": "677c6bd5",
   "metadata": {},
   "outputs": [],
   "source": [
    "import numpy as np, matplotlib.pyplot as plt\n",
    "t=np.linspace(0,1,1000)\n",
    "for k in [0.05,0.1,0.2]:\n",
    "    tw=k*np.exp(-((t-0.5)**2)/(2*0.01)); plt.plot(t, tw)\n",
    "plt.show()"
   ]
  }
 ],
 "metadata": {},
 "nbformat": 4,
 "nbformat_minor": 5
}
