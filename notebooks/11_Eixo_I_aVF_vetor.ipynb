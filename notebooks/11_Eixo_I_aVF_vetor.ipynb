{
 "cells": [
  {
   "cell_type": "markdown",
   "id": "ebb375bc",
   "metadata": {},
   "source": [
    "# 11_Eixo_I_aVF_vetor\n",
    "\n",
    "Ângulo do eixo a partir de I e aVF e classificação por sinais."
   ]
  },
  {
   "cell_type": "code",
   "execution_count": null,
   "id": "41e2b3f0",
   "metadata": {},
   "outputs": [],
   "source": [
    "import math\n",
    "pairs=[(5,5),(5,-2),(-3,6),(-4,-4)]\n",
    "for I,aVF in pairs:\n",
    "    ang=math.degrees(math.atan2(aVF,I)); print(I,aVF,ang)"
   ]
  }
 ],
 "metadata": {},
 "nbformat": 4,
 "nbformat_minor": 5
}
