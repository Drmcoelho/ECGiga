{
 "cells": [
  {
   "cell_type": "markdown",
   "id": "994b138f",
   "metadata": {},
   "source": [
    "# 14_Artefatos_e_Filtros\n",
    "\n",
    "Exemplos de baseline wander, ruído muscular e filtragem simples."
   ]
  },
  {
   "cell_type": "code",
   "execution_count": null,
   "id": "50aa0728",
   "metadata": {},
   "outputs": [],
   "source": [
    "import numpy as np, matplotlib.pyplot as plt\n",
    "fs=500; t=np.arange(0,10,1/fs)\n",
    "s=np.sin(2*np.pi*1.5*t)+0.4*np.sin(2*np.pi*50*t)\n",
    "plt.plot(t[:2000], s[:2000]); plt.show()"
   ]
  }
 ],
 "metadata": {},
 "nbformat": 4,
 "nbformat_minor": 5
}
