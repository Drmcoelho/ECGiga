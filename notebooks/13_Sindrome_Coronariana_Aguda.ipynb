{
 "cells": [
  {
   "cell_type": "markdown",
   "id": "intro",
   "metadata": {},
   "source": [
    "# Sindrome Coronariana Aguda",
    "",
    "Conteudo em construcao."
   ]
  }
 ],
 "metadata": {},
 "nbformat": 4,
 "nbformat_minor": 5
}
