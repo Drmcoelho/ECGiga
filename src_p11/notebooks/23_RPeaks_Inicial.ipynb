{
 "cells": [
  {
   "cell_type": "markdown",
   "id": "b14986ae",
   "metadata": {},
   "source": [
    "# 23_RPeaks_Inicial\n",
    "\n",
    "Extração de traçado 1D e detecção de R-peaks para estimativa de FC."
   ]
  },
  {
   "cell_type": "code",
   "execution_count": null,
   "id": "9a03193d",
   "metadata": {},
   "outputs": [],
   "source": [
    "import numpy as np\n",
    "from PIL import Image\n",
    "\n",
    "from cv.grid_detect import estimate_grid_period_px\n",
    "from cv.rpeaks_from_image import (\n",
    "    detect_rpeaks_from_trace,\n",
    "    estimate_px_per_sec,\n",
    "    extract_trace_centerline,\n",
    "    smooth_signal,\n",
    ")\n",
    "from cv.segmentation import find_content_bbox\n",
    "from cv.segmentation_ext import segment_layout\n",
    "\n",
    "img = Image.open('../samples/ecg_images/synthetic_12lead.png').convert('L')\n",
    "arr = np.asarray(img); from PIL import Image as P\n",
    "rgb = P.open('../samples/ecg_images/synthetic_12lead.png').convert('RGB')\n",
    "bbox = find_content_bbox(arr)\n",
    "seg = segment_layout(arr, '3x4', bbox=bbox)\n",
    "lab2box = {d['lead']: d['bbox'] for d in seg}\n",
    "x0,y0,x1,y1 = lab2box['II']\n",
    "crop = arr[y0:y1,x0:x1]\n",
    "trace = smooth_signal(extract_trace_centerline(crop), win=11)\n",
    "pxmm = (estimate_grid_period_px(np.asarray(rgb)).get('px_small_x') or 10)\n",
    "pxsec = estimate_px_per_sec(pxmm, 25.0)\n",
    "res = detect_rpeaks_from_trace(trace, px_per_sec=pxsec)\n",
    "res"
   ]
  }
 ],
 "metadata": {},
 "nbformat": 4,
 "nbformat_minor": 5
}