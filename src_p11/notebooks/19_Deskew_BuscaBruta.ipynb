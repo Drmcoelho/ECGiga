{
 "cells": [
  {
   "cell_type": "markdown",
   "id": "37be7f23",
   "metadata": {},
   "source": [
    "# 19_Deskew_BuscaBruta\n",
    "\n",
    "Deskew por varredura de ângulo maximizando variância de projeções de gradiente."
   ]
  },
  {
   "cell_type": "code",
   "execution_count": null,
   "id": "50e43f3e",
   "metadata": {},
   "outputs": [],
   "source": [
    "from PIL import Image\n",
    "\n",
    "from cv.deskew import estimate_rotation_angle, rotate_image\n",
    "\n",
    "img = Image.open('../samples/ecg_images/synthetic_12lead.png').convert('RGB')\n",
    "info = estimate_rotation_angle(img, search_deg=6.0, step=0.5)\n",
    "print(info)\n",
    "rot = rotate_image(img, info['angle_deg'])\n",
    "rot.size"
   ]
  }
 ],
 "metadata": {},
 "nbformat": 4,
 "nbformat_minor": 5
}