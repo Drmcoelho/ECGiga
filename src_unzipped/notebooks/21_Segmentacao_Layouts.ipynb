{
 "cells": [
  {
   "cell_type": "markdown",
   "id": "2bfdbddb",
   "metadata": {},
   "source": [
    "# 21_Segmentacao_Layouts\n",
    "\n",
    "Segmentação em layouts 3x4, 6x2 e 3x4+ritmo."
   ]
  },
  {
   "cell_type": "code",
   "execution_count": null,
   "id": "2f2c35d8",
   "metadata": {},
   "outputs": [],
   "source": [
    "import numpy as np\n",
    "from PIL import Image\n",
    "\n",
    "from cv.segmentation import find_content_bbox\n",
    "from cv.segmentation_ext import segment_layout\n",
    "\n",
    "img = Image.open('../samples/ecg_images/synthetic_12lead.png').convert('L')\n",
    "arr = np.asarray(img)\n",
    "bbox = find_content_bbox(arr)\n",
    "seg_3x4 = segment_layout(arr, '3x4', bbox)\n",
    "seg_6x2 = segment_layout(arr, '6x2', bbox)\n",
    "seg_rhy = segment_layout(arr, '3x4+rhythm', bbox)\n",
    "len(seg_3x4), len(seg_6x2), len(seg_rhy)"
   ]
  }
 ],
 "metadata": {},
 "nbformat": 4,
 "nbformat_minor": 5
}